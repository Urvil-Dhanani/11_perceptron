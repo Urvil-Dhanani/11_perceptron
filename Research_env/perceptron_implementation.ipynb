{
 "cells": [
  {
   "cell_type": "code",
   "execution_count": 1,
   "id": "1b488b6d",
   "metadata": {},
   "outputs": [],
   "source": [
    "import os\n",
    "import matplotlib.pyplot as plt\n",
    "import joblib\n",
    "import numpy as np \n",
    "import pandas as pd\n",
    "\n",
    "plt.style.use(\"fivethirtyeight\")"
   ]
  },
  {
   "cell_type": "code",
   "execution_count": 2,
   "id": "beae33b3",
   "metadata": {},
   "outputs": [],
   "source": [
    "class Perceptron:\n",
    "    \n",
    "    def __init__(self, eta: float=None, epochs: int=None):\n",
    "        self.weights = np.random.randn(3) *1e-4\n",
    "        self.eta = eta  # learning rate\n",
    "        self.epochs = epochs  # iterations\n",
    "        \n",
    "    def _z_value(self, inputs, weights):\n",
    "        return np.dot(inputs, weights) \n",
    "    \n",
    "    def activation_function(self, z):\n",
    "        return np.where(z>0, 1, 0)   #step function\n",
    "        \n",
    "    def fit(self, x, y):\n",
    "        self.x = x\n",
    "        self.y = y\n",
    "        \n",
    "        x_with_bias = np.c_[self.x, -np.ones((len(self.x), 1))]\n",
    "        print(f\"X with Bias : \\n{x_with_bias}\")\n",
    "        \n",
    "        for epoch in range(self.epochs):\n",
    "            z = self._z_value(x_with_bias, self.weights)\n",
    "            y_hat = self.activation_function(z)\n",
    "            \n",
    "            self.error = self.y - y_hat\n",
    "        \n",
    "            self.weights = self.weights + self.eta*np.dot(x_with_bias.T, self.error)\n",
    "        \n",
    "    def predict(self, x):\n",
    "        x_with_bias = np.c_[x, -np.ones((len(x), 1))]\n",
    "        z = self._z_value(x_with_bias, self.weights)\n",
    "        return self.activation_function(z)"
   ]
  },
  {
   "cell_type": "code",
   "execution_count": 3,
   "id": "2fdb873c",
   "metadata": {},
   "outputs": [],
   "source": [
    "OR = {\n",
    "    \"x1\": [0, 0, 1, 1],\n",
    "    \"x2\": [0, 1, 0, 1],\n",
    "    \"y\" : [0, 1, 1, 1]\n",
    "}\n",
    "\n",
    "df_OR = pd.DataFrame(OR)"
   ]
  },
  {
   "cell_type": "code",
   "execution_count": 4,
   "id": "5f8e2e01",
   "metadata": {},
   "outputs": [
    {
     "data": {
      "text/html": [
       "<div>\n",
       "<style scoped>\n",
       "    .dataframe tbody tr th:only-of-type {\n",
       "        vertical-align: middle;\n",
       "    }\n",
       "\n",
       "    .dataframe tbody tr th {\n",
       "        vertical-align: top;\n",
       "    }\n",
       "\n",
       "    .dataframe thead th {\n",
       "        text-align: right;\n",
       "    }\n",
       "</style>\n",
       "<table border=\"1\" class=\"dataframe\">\n",
       "  <thead>\n",
       "    <tr style=\"text-align: right;\">\n",
       "      <th></th>\n",
       "      <th>x1</th>\n",
       "      <th>x2</th>\n",
       "      <th>y</th>\n",
       "    </tr>\n",
       "  </thead>\n",
       "  <tbody>\n",
       "    <tr>\n",
       "      <th>0</th>\n",
       "      <td>0</td>\n",
       "      <td>0</td>\n",
       "      <td>0</td>\n",
       "    </tr>\n",
       "    <tr>\n",
       "      <th>1</th>\n",
       "      <td>0</td>\n",
       "      <td>1</td>\n",
       "      <td>1</td>\n",
       "    </tr>\n",
       "    <tr>\n",
       "      <th>2</th>\n",
       "      <td>1</td>\n",
       "      <td>0</td>\n",
       "      <td>1</td>\n",
       "    </tr>\n",
       "    <tr>\n",
       "      <th>3</th>\n",
       "      <td>1</td>\n",
       "      <td>1</td>\n",
       "      <td>1</td>\n",
       "    </tr>\n",
       "  </tbody>\n",
       "</table>\n",
       "</div>"
      ],
      "text/plain": [
       "   x1  x2  y\n",
       "0   0   0  0\n",
       "1   0   1  1\n",
       "2   1   0  1\n",
       "3   1   1  1"
      ]
     },
     "execution_count": 4,
     "metadata": {},
     "output_type": "execute_result"
    }
   ],
   "source": [
    "df_OR"
   ]
  },
  {
   "cell_type": "code",
   "execution_count": 5,
   "id": "08154a41",
   "metadata": {},
   "outputs": [],
   "source": [
    "def data_prep(df, target_col = \"y\"):\n",
    "    x = df.drop(target_col, axis = 1)\n",
    "    y = df[target_col]\n",
    "    \n",
    "    return x, y"
   ]
  },
  {
   "cell_type": "code",
   "execution_count": 6,
   "id": "6e8826d9",
   "metadata": {},
   "outputs": [
    {
     "name": "stdout",
     "output_type": "stream",
     "text": [
      "X with Bias : \n",
      "[[ 0.  0. -1.]\n",
      " [ 0.  1. -1.]\n",
      " [ 1.  0. -1.]\n",
      " [ 1.  1. -1.]]\n"
     ]
    }
   ],
   "source": [
    "x_inp, y_inp = data_prep(df_OR)\n",
    "\n",
    "ETA = 0.1\n",
    "EPOCHS = 10\n",
    "\n",
    "\n",
    "model = Perceptron(eta=ETA, epochs=EPOCHS)\n",
    "\n",
    "model.fit(x_inp, y_inp)"
   ]
  },
  {
   "cell_type": "code",
   "execution_count": 7,
   "id": "41464df2",
   "metadata": {},
   "outputs": [
    {
     "data": {
      "text/plain": [
       "array([0, 1, 1, 1])"
      ]
     },
     "execution_count": 7,
     "metadata": {},
     "output_type": "execute_result"
    }
   ],
   "source": [
    "model.predict(x_inp)"
   ]
  },
  {
   "cell_type": "code",
   "execution_count": 8,
   "id": "eae80406",
   "metadata": {},
   "outputs": [
    {
     "data": {
      "text/plain": [
       "array([1])"
      ]
     },
     "execution_count": 8,
     "metadata": {},
     "output_type": "execute_result"
    }
   ],
   "source": [
    "model.predict([[1,0]])"
   ]
  }
 ],
 "metadata": {
  "kernelspec": {
   "display_name": "Python 3 (ipykernel)",
   "language": "python",
   "name": "python3"
  },
  "language_info": {
   "codemirror_mode": {
    "name": "ipython",
    "version": 3
   },
   "file_extension": ".py",
   "mimetype": "text/x-python",
   "name": "python",
   "nbconvert_exporter": "python",
   "pygments_lexer": "ipython3",
   "version": "3.7.16"
  }
 },
 "nbformat": 4,
 "nbformat_minor": 5
}
